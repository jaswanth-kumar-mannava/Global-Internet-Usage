{
 "cells": [
  {
   "cell_type": "code",
   "execution_count": 399,
   "metadata": {},
   "outputs": [
    {
     "name": "stderr",
     "output_type": "stream",
     "text": [
      "/var/folders/0c/1qmcx3ds3vv92czkvs88k9_h0000gn/T/ipykernel_1764/1734395918.py:7: SettingWithCopyWarning: \n",
      "A value is trying to be set on a copy of a slice from a DataFrame.\n",
      "Try using .loc[row_indexer,col_indexer] = value instead\n",
      "\n",
      "See the caveats in the documentation: https://pandas.pydata.org/pandas-docs/stable/user_guide/indexing.html#returning-a-view-versus-a-copy\n",
      "  df_2000to2023['Year']=df_2000to2023['Year'].astype('int')\n"
     ]
    }
   ],
   "source": [
    "import pandas as pd\n",
    "# imported world poulation by country and year from https://github.com/87b659ab-0737-4f61-8155-256dd76a8001\n",
    "df=pd.read_csv(\"/Users/jaswanth/Downloads/Internet usage by country/population.csv\")\n",
    "\n",
    "# Extracting population data from 2000 to 2023 and renaming columns and ensuring appropriate data types\n",
    "df_2000to2023= df[(df['Year']>=2000) & (df['Year']<=2023)]\n",
    "df_2000to2023['Year']=df_2000to2023['Year'].astype('int')\n",
    "df_2000to2023= df_2000to2023.rename(columns={'Value':'Population'})\n",
    "df_2000to2023['Population']=df_2000to2023['Population'].astype('int')"
   ]
  },
  {
   "cell_type": "code",
   "execution_count": 411,
   "metadata": {},
   "outputs": [
    {
     "ename": "ModuleNotFoundError",
     "evalue": "No module named 'missingno'",
     "output_type": "error",
     "traceback": [
      "\u001b[0;31m---------------------------------------------------------------------------\u001b[0m",
      "\u001b[0;31mModuleNotFoundError\u001b[0m                       Traceback (most recent call last)",
      "\u001b[1;32m/Users/jaswanth/Downloads/Internet usage by country/Data prep.ipynb Cell 2\u001b[0m line \u001b[0;36m7\n\u001b[1;32m      <a href='vscode-notebook-cell:/Users/jaswanth/Downloads/Internet%20usage%20by%20country/Data%20prep.ipynb#W3sZmlsZQ%3D%3D?line=4'>5</a>\u001b[0m df_internet[years] \u001b[39m=\u001b[39m df_internet[years]\u001b[39m.\u001b[39mapply(pd\u001b[39m.\u001b[39mto_numeric, errors\u001b[39m=\u001b[39m\u001b[39m'\u001b[39m\u001b[39mcoerce\u001b[39m\u001b[39m'\u001b[39m)\n\u001b[1;32m      <a href='vscode-notebook-cell:/Users/jaswanth/Downloads/Internet%20usage%20by%20country/Data%20prep.ipynb#W3sZmlsZQ%3D%3D?line=5'>6</a>\u001b[0m df_internet[\u001b[39m'\u001b[39m\u001b[39mt1\u001b[39m\u001b[39m'\u001b[39m]\u001b[39m=\u001b[39mdf_internet[years]\u001b[39m.\u001b[39mapply(np\u001b[39m.\u001b[39msum,axis\u001b[39m=\u001b[39m\u001b[39m1\u001b[39m)\n\u001b[0;32m----> <a href='vscode-notebook-cell:/Users/jaswanth/Downloads/Internet%20usage%20by%20country/Data%20prep.ipynb#W3sZmlsZQ%3D%3D?line=6'>7</a>\u001b[0m \u001b[39mimport\u001b[39;00m \u001b[39mmissingno\u001b[39;00m \u001b[39mas\u001b[39;00m \u001b[39mmsno\u001b[39;00m\n\u001b[1;32m      <a href='vscode-notebook-cell:/Users/jaswanth/Downloads/Internet%20usage%20by%20country/Data%20prep.ipynb#W3sZmlsZQ%3D%3D?line=7'>8</a>\u001b[0m \u001b[39mimport\u001b[39;00m \u001b[39mmatplotlib\u001b[39;00m\u001b[39m.\u001b[39;00m\u001b[39mpyplot\u001b[39;00m \u001b[39mas\u001b[39;00m \u001b[39mplt\u001b[39;00m\n\u001b[1;32m     <a href='vscode-notebook-cell:/Users/jaswanth/Downloads/Internet%20usage%20by%20country/Data%20prep.ipynb#W3sZmlsZQ%3D%3D?line=9'>10</a>\u001b[0m \u001b[39m# Visualize missing values in a matrix plot\u001b[39;00m\n",
      "\u001b[0;31mModuleNotFoundError\u001b[0m: No module named 'missingno'"
     ]
    }
   ],
   "source": [
    "# Internet usage\n",
    "df_internet=pd.read_csv(\"internet_usage.csv\")\n",
    "years=list(map(lambda x: str(x),range(2000,2024)))\n",
    "# Handling non numeric values under years by coercion to \"NaN\"\n",
    "df_internet[years] = df_internet[years].apply(pd.to_numeric, errors='coerce')\n",
    "df_internet['t1']=df_internet[years].apply(np.sum,axis=1)\n",
    "# Drop countries without any data for atleast one year\n",
    "df_internet = df_internet.drop(df_internet[df_internet['t1'] == 0].index)\n",
    "df_internet.sort_values('t1')\n",
    "# reshaping data frame by converting into a flat table\n",
    "df_internet_flat= df_internet.melt(id_vars=['Country Name','Country Code'],value_vars=years,var_name='Year',value_name='% of Internet_usage')\n",
    "df_internet_flat['Year'] = df_internet_flat['Year'].astype('int')\n"
   ]
  },
  {
   "cell_type": "code",
   "execution_count": 401,
   "metadata": {},
   "outputs": [
    {
     "name": "stdout",
     "output_type": "stream",
     "text": [
      "<class 'pandas.core.frame.DataFrame'>\n",
      "RangeIndex: 5016 entries, 0 to 5015\n",
      "Data columns (total 4 columns):\n",
      " #   Column               Non-Null Count  Dtype  \n",
      "---  ------               --------------  -----  \n",
      " 0   Country Name         5016 non-null   object \n",
      " 1   Country Code         5016 non-null   object \n",
      " 2   Year                 5016 non-null   int64  \n",
      " 3   % of Internet_usage  4589 non-null   float64\n",
      "dtypes: float64(1), int64(1), object(2)\n",
      "memory usage: 156.9+ KB\n",
      "<class 'pandas.core.frame.DataFrame'>\n",
      "Index: 6360 entries, 40 to 16929\n",
      "Data columns (total 4 columns):\n",
      " #   Column        Non-Null Count  Dtype \n",
      "---  ------        --------------  ----- \n",
      " 0   Country Name  6360 non-null   object\n",
      " 1   Country Code  6360 non-null   object\n",
      " 2   Year          6360 non-null   int64 \n",
      " 3   Population    6360 non-null   int64 \n",
      "dtypes: int64(2), object(2)\n",
      "memory usage: 248.4+ KB\n"
     ]
    }
   ],
   "source": [
    "# check for country name match in both population and internet usage tables \n",
    "Country_code_internet=set(df_internet_flat['Country Name'])\n",
    "Country_code_population=set(df_2000to2023['Country Name'])\n",
    "Country_code_internet.issubset(Country_code_population)\n",
    "df_internet_flat.info()\n",
    "df_2000to2023.info()"
   ]
  },
  {
   "cell_type": "code",
   "execution_count": 402,
   "metadata": {},
   "outputs": [
    {
     "data": {
      "text/plain": [
       "170"
      ]
     },
     "execution_count": 402,
     "metadata": {},
     "output_type": "execute_result"
    }
   ],
   "source": [
    "(df_merged[df_merged['% of Internet_usage'].isna()]['Population']>3000000).sum()"
   ]
  },
  {
   "cell_type": "code",
   "execution_count": 403,
   "metadata": {},
   "outputs": [
    {
     "name": "stdout",
     "output_type": "stream",
     "text": [
      "<class 'pandas.core.frame.DataFrame'>\n",
      "RangeIndex: 4992 entries, 0 to 4991\n",
      "Data columns (total 10 columns):\n",
      " #   Column                 Non-Null Count  Dtype  \n",
      "---  ------                 --------------  -----  \n",
      " 0   Country Name           4992 non-null   object \n",
      " 1   Country Code           4992 non-null   object \n",
      " 2   Year                   4992 non-null   int64  \n",
      " 3   % of Internet_usage    4587 non-null   float64\n",
      " 4   Population             4992 non-null   int64  \n",
      " 5   World population       4992 non-null   int64  \n",
      " 6   % of World population  4992 non-null   float64\n",
      " 7   Region Name            4992 non-null   object \n",
      " 8   Sub-region Name        4992 non-null   object \n",
      " 9   IncomeGroup            4968 non-null   object \n",
      "dtypes: float64(2), int64(3), object(5)\n",
      "memory usage: 390.1+ KB\n"
     ]
    },
    {
     "data": {
      "text/plain": [
       "Index(['Country Name', 'Country Code', 'Year', '% of Internet_usage',\n",
       "       'Population', 'World population', '% of World population',\n",
       "       'Region Name', 'Sub-region Name', 'IncomeGroup', 'GDP per capita'],\n",
       "      dtype='object')"
      ]
     },
     "execution_count": 403,
     "metadata": {},
     "output_type": "execute_result"
    }
   ],
   "source": [
    "# joining the tables and adding new column for number of internet users\n",
    "df_merged=df_internet_flat.merge(df_2000to2023,on=['Country Name','Country Code','Year'])\n",
    "df_merged['World population'] = df_merged.groupby('Year')['Population'].transform(sum)\n",
    "df_merged['% of World population'] =  df_merged['Population'] / df_merged['World population']\n",
    "# join for including the region of a country\n",
    "df_region=pd.read_csv('Country_Region.csv',delimiter=';')\n",
    "df_region= df_region[['ISO-alpha3 Code','Region Name','Sub-region Name']]\n",
    "df_merged_region = df_merged.merge(df_region,left_on=['Country Code'],right_on='ISO-alpha3 Code' )\n",
    "df_merged_region = df_merged_region.drop('ISO-alpha3 Code', axis=1)\n",
    "# join for including the per capita GDP of a country\n",
    "df_income = pd.read_csv('income_group.csv')\n",
    "df_income.head()\n",
    "df_final= df_merged_region.merge(df_income,on=['Country Code'])\n",
    "df_final = df_final.iloc[:,:]\n",
    "df_final=df_final.drop(['Region', 'SpecialNotes','TableName', 'Unnamed: 5'],axis=1)\n",
    "df_GDP = pd.read_csv('GDP_per capita.csv')\n",
    "df_GDP= df_GDP[['Country Code',*years]]\n",
    "df_GDP= df_GDP.melt(id_vars=['Country Code'],value_vars=years,var_name='Year',value_name='GDP per capita')\n",
    "df_GDP['Year']=df_GDP['Year'].astype(int)\n",
    "df_final.info()\n",
    "df_final= df_final.merge(df_GDP,on=['Country Code','Year'])\n",
    "df_final.columns"
   ]
  },
  {
   "cell_type": "code",
   "execution_count": 404,
   "metadata": {},
   "outputs": [
    {
     "name": "stdout",
     "output_type": "stream",
     "text": [
      "Number of missing values in '% of Internet_usage': 405\n"
     ]
    }
   ],
   "source": [
    "missing_values = df_final['% of Internet_usage'].isna().sum()\n",
    "print(f\"Number of missing values in '% of Internet_usage': {missing_values}\")"
   ]
  },
  {
   "cell_type": "code",
   "execution_count": 405,
   "metadata": {},
   "outputs": [
    {
     "name": "stdout",
     "output_type": "stream",
     "text": [
      "Mean Squared Error on Training Data: 156.63544739876636\n"
     ]
    }
   ],
   "source": [
    "import pandas as pd\n",
    "from sklearn.model_selection import train_test_split\n",
    "from sklearn.linear_model import LinearRegression\n",
    "from sklearn.metrics import mean_squared_error\n",
    "from sklearn.preprocessing import StandardScaler, OneHotEncoder\n",
    "from sklearn.compose import ColumnTransformer\n",
    "from sklearn.pipeline import Pipeline\n",
    "from sklearn.impute import SimpleImputer\n",
    "\n",
    "# Separate rows with missing values in '% of Internet_usage'\n",
    "train_data = df_final[df_final['% of Internet_usage'].notna()]\n",
    "test_data = df_final[df_final['% of Internet_usage'].isna()]\n",
    "\n",
    "# Features and target variable\n",
    "X_train = train_data[['Year', 'Population', 'Region Name', 'Sub-region Name', 'IncomeGroup']]  # Features\n",
    "y_train = train_data['% of Internet_usage']  # Target\n",
    "\n",
    "# For the rows with missing values in '% of Internet_usage', we'll only use the features\n",
    "X_test = test_data[['Year', 'Population', 'Region Name', 'Sub-region Name', 'IncomeGroup']]\n",
    "\n",
    "# Numeric columns (that may need standardization)\n",
    "numeric_cols = ['Year', 'Population']\n",
    "\n",
    "# Categorical columns (that need encoding)\n",
    "categorical_cols = ['Region Name', 'Sub-region Name', 'IncomeGroup']\n",
    "\n",
    "# Create a column transformer to handle both numerical and categorical features\n",
    "preprocessor = ColumnTransformer(\n",
    "    transformers=[\n",
    "        ('num', StandardScaler(), numeric_cols),  # Apply StandardScaler to numeric columns\n",
    "        ('cat', OneHotEncoder(), categorical_cols)  # Apply OneHotEncoder to categorical columns\n",
    "    ])\n",
    "\n",
    "# Initialize the Linear Regression model\n",
    "model = Pipeline(steps=[\n",
    "    ('preprocessor', preprocessor),  # First, apply preprocessing to the data\n",
    "    ('regressor', LinearRegression())  # Then, apply Linear Regression\n",
    "])\n",
    "\n",
    "# Fit the model on the training data\n",
    "model.fit(X_train, y_train)\n",
    "\n",
    "# Make predictions for the test data (where internet usage is missing)\n",
    "y_pred = model.predict(X_test)\n",
    "\n",
    "# Replace the missing values in '% of Internet_usage' with the predicted values\n",
    "df_final.loc[df_final['% of Internet_usage'].isna(), '% of Internet_usage'] = y_pred\n",
    "\n",
    "# (Optional) Evaluate the model on training data\n",
    "y_train_pred = model.predict(X_train)\n",
    "mse = mean_squared_error(y_train, y_train_pred)\n",
    "print(f'Mean Squared Error on Training Data: {mse}')\n"
   ]
  },
  {
   "cell_type": "code",
   "execution_count": 406,
   "metadata": {},
   "outputs": [
    {
     "name": "stdout",
     "output_type": "stream",
     "text": [
      "count    4992.000000\n",
      "mean       39.625167\n",
      "std        31.626983\n",
      "min         0.000289\n",
      "25%         8.119155\n",
      "50%        35.076094\n",
      "75%        68.687040\n",
      "max       100.000000\n",
      "Name: % of Internet_usage, dtype: float64\n"
     ]
    }
   ],
   "source": [
    "# Find the minimum positive value in '% of Internet_usage'\n",
    "min_positive_value = df_final[df_final['% of Internet_usage'] > 0]['% of Internet_usage'].min()\n",
    "max_positive_value = df_internet_flat['% of Internet_usage'].max()\n",
    "\n",
    "# Impute negative and zero values with the minimum positive value\n",
    "df_final['% of Internet_usage'] = df_final['% of Internet_usage'].apply(lambda x: min_positive_value if x <= 0 else x)\n",
    "df_final['% of Internet_usage'] = df_final['% of Internet_usage'].apply(lambda x: max_positive_value if x >=100 else x)\n",
    "\n",
    "# Check the result\n",
    "print(df_final['% of Internet_usage'].describe())\n"
   ]
  },
  {
   "cell_type": "code",
   "execution_count": 407,
   "metadata": {},
   "outputs": [
    {
     "data": {
      "text/html": [
       "<div>\n",
       "<style scoped>\n",
       "    .dataframe tbody tr th:only-of-type {\n",
       "        vertical-align: middle;\n",
       "    }\n",
       "\n",
       "    .dataframe tbody tr th {\n",
       "        vertical-align: top;\n",
       "    }\n",
       "\n",
       "    .dataframe thead th {\n",
       "        text-align: right;\n",
       "    }\n",
       "</style>\n",
       "<table border=\"1\" class=\"dataframe\">\n",
       "  <thead>\n",
       "    <tr style=\"text-align: right;\">\n",
       "      <th></th>\n",
       "      <th>Country Name</th>\n",
       "      <th>Country Code</th>\n",
       "      <th>Year</th>\n",
       "      <th>% of Internet_usage</th>\n",
       "      <th>Population</th>\n",
       "      <th>World population</th>\n",
       "      <th>% of World population</th>\n",
       "      <th>Region Name</th>\n",
       "      <th>Sub-region Name</th>\n",
       "      <th>IncomeGroup</th>\n",
       "      <th>GDP per capita</th>\n",
       "    </tr>\n",
       "  </thead>\n",
       "  <tbody>\n",
       "    <tr>\n",
       "      <th>0</th>\n",
       "      <td>Afghanistan</td>\n",
       "      <td>AFG</td>\n",
       "      <td>2000</td>\n",
       "      <td>0.000289</td>\n",
       "      <td>20130327</td>\n",
       "      <td>6115617907</td>\n",
       "      <td>0.003292</td>\n",
       "      <td>Asia</td>\n",
       "      <td>Southern Asia</td>\n",
       "      <td>Low income</td>\n",
       "      <td>174.930991</td>\n",
       "    </tr>\n",
       "    <tr>\n",
       "      <th>1</th>\n",
       "      <td>Afghanistan</td>\n",
       "      <td>AFG</td>\n",
       "      <td>2001</td>\n",
       "      <td>0.004723</td>\n",
       "      <td>20284307</td>\n",
       "      <td>6198523633</td>\n",
       "      <td>0.003272</td>\n",
       "      <td>Asia</td>\n",
       "      <td>Southern Asia</td>\n",
       "      <td>Low income</td>\n",
       "      <td>138.706822</td>\n",
       "    </tr>\n",
       "    <tr>\n",
       "      <th>2</th>\n",
       "      <td>Afghanistan</td>\n",
       "      <td>AFG</td>\n",
       "      <td>2002</td>\n",
       "      <td>0.004561</td>\n",
       "      <td>21378117</td>\n",
       "      <td>6280690978</td>\n",
       "      <td>0.003404</td>\n",
       "      <td>Asia</td>\n",
       "      <td>Southern Asia</td>\n",
       "      <td>Low income</td>\n",
       "      <td>178.954088</td>\n",
       "    </tr>\n",
       "    <tr>\n",
       "      <th>3</th>\n",
       "      <td>Afghanistan</td>\n",
       "      <td>AFG</td>\n",
       "      <td>2003</td>\n",
       "      <td>0.087891</td>\n",
       "      <td>22733049</td>\n",
       "      <td>6362582991</td>\n",
       "      <td>0.003573</td>\n",
       "      <td>Asia</td>\n",
       "      <td>Southern Asia</td>\n",
       "      <td>Low income</td>\n",
       "      <td>198.871116</td>\n",
       "    </tr>\n",
       "    <tr>\n",
       "      <th>4</th>\n",
       "      <td>Afghanistan</td>\n",
       "      <td>AFG</td>\n",
       "      <td>2004</td>\n",
       "      <td>0.105809</td>\n",
       "      <td>23560654</td>\n",
       "      <td>6445292478</td>\n",
       "      <td>0.003655</td>\n",
       "      <td>Asia</td>\n",
       "      <td>Southern Asia</td>\n",
       "      <td>Low income</td>\n",
       "      <td>221.763654</td>\n",
       "    </tr>\n",
       "    <tr>\n",
       "      <th>...</th>\n",
       "      <td>...</td>\n",
       "      <td>...</td>\n",
       "      <td>...</td>\n",
       "      <td>...</td>\n",
       "      <td>...</td>\n",
       "      <td>...</td>\n",
       "      <td>...</td>\n",
       "      <td>...</td>\n",
       "      <td>...</td>\n",
       "      <td>...</td>\n",
       "      <td>...</td>\n",
       "    </tr>\n",
       "    <tr>\n",
       "      <th>4987</th>\n",
       "      <td>Zimbabwe</td>\n",
       "      <td>ZWE</td>\n",
       "      <td>2019</td>\n",
       "      <td>26.588300</td>\n",
       "      <td>15271368</td>\n",
       "      <td>7726797600</td>\n",
       "      <td>0.001976</td>\n",
       "      <td>Africa</td>\n",
       "      <td>Sub-Saharan Africa</td>\n",
       "      <td>Lower middle income</td>\n",
       "      <td>1684.027904</td>\n",
       "    </tr>\n",
       "    <tr>\n",
       "      <th>4988</th>\n",
       "      <td>Zimbabwe</td>\n",
       "      <td>ZWE</td>\n",
       "      <td>2020</td>\n",
       "      <td>29.298600</td>\n",
       "      <td>15526888</td>\n",
       "      <td>7805953886</td>\n",
       "      <td>0.001989</td>\n",
       "      <td>Africa</td>\n",
       "      <td>Sub-Saharan Africa</td>\n",
       "      <td>Lower middle income</td>\n",
       "      <td>1730.413489</td>\n",
       "    </tr>\n",
       "    <tr>\n",
       "      <th>4989</th>\n",
       "      <td>Zimbabwe</td>\n",
       "      <td>ZWE</td>\n",
       "      <td>2021</td>\n",
       "      <td>32.461600</td>\n",
       "      <td>15797210</td>\n",
       "      <td>7871000477</td>\n",
       "      <td>0.002007</td>\n",
       "      <td>Africa</td>\n",
       "      <td>Sub-Saharan Africa</td>\n",
       "      <td>Lower middle income</td>\n",
       "      <td>1724.387731</td>\n",
       "    </tr>\n",
       "    <tr>\n",
       "      <th>4990</th>\n",
       "      <td>Zimbabwe</td>\n",
       "      <td>ZWE</td>\n",
       "      <td>2022</td>\n",
       "      <td>32.561500</td>\n",
       "      <td>16069056</td>\n",
       "      <td>7940003773</td>\n",
       "      <td>0.002024</td>\n",
       "      <td>Africa</td>\n",
       "      <td>Sub-Saharan Africa</td>\n",
       "      <td>Lower middle income</td>\n",
       "      <td>2040.552459</td>\n",
       "    </tr>\n",
       "    <tr>\n",
       "      <th>4991</th>\n",
       "      <td>Zimbabwe</td>\n",
       "      <td>ZWE</td>\n",
       "      <td>2023</td>\n",
       "      <td>50.174160</td>\n",
       "      <td>16340822</td>\n",
       "      <td>8011623532</td>\n",
       "      <td>0.002040</td>\n",
       "      <td>Africa</td>\n",
       "      <td>Sub-Saharan Africa</td>\n",
       "      <td>Lower middle income</td>\n",
       "      <td>2156.034004</td>\n",
       "    </tr>\n",
       "  </tbody>\n",
       "</table>\n",
       "<p>4992 rows × 11 columns</p>\n",
       "</div>"
      ],
      "text/plain": [
       "     Country Name Country Code  Year  % of Internet_usage  Population  \\\n",
       "0     Afghanistan          AFG  2000             0.000289    20130327   \n",
       "1     Afghanistan          AFG  2001             0.004723    20284307   \n",
       "2     Afghanistan          AFG  2002             0.004561    21378117   \n",
       "3     Afghanistan          AFG  2003             0.087891    22733049   \n",
       "4     Afghanistan          AFG  2004             0.105809    23560654   \n",
       "...           ...          ...   ...                  ...         ...   \n",
       "4987     Zimbabwe          ZWE  2019            26.588300    15271368   \n",
       "4988     Zimbabwe          ZWE  2020            29.298600    15526888   \n",
       "4989     Zimbabwe          ZWE  2021            32.461600    15797210   \n",
       "4990     Zimbabwe          ZWE  2022            32.561500    16069056   \n",
       "4991     Zimbabwe          ZWE  2023            50.174160    16340822   \n",
       "\n",
       "      World population  % of World population Region Name     Sub-region Name  \\\n",
       "0           6115617907               0.003292        Asia       Southern Asia   \n",
       "1           6198523633               0.003272        Asia       Southern Asia   \n",
       "2           6280690978               0.003404        Asia       Southern Asia   \n",
       "3           6362582991               0.003573        Asia       Southern Asia   \n",
       "4           6445292478               0.003655        Asia       Southern Asia   \n",
       "...                ...                    ...         ...                 ...   \n",
       "4987        7726797600               0.001976      Africa  Sub-Saharan Africa   \n",
       "4988        7805953886               0.001989      Africa  Sub-Saharan Africa   \n",
       "4989        7871000477               0.002007      Africa  Sub-Saharan Africa   \n",
       "4990        7940003773               0.002024      Africa  Sub-Saharan Africa   \n",
       "4991        8011623532               0.002040      Africa  Sub-Saharan Africa   \n",
       "\n",
       "              IncomeGroup  GDP per capita  \n",
       "0              Low income      174.930991  \n",
       "1              Low income      138.706822  \n",
       "2              Low income      178.954088  \n",
       "3              Low income      198.871116  \n",
       "4              Low income      221.763654  \n",
       "...                   ...             ...  \n",
       "4987  Lower middle income     1684.027904  \n",
       "4988  Lower middle income     1730.413489  \n",
       "4989  Lower middle income     1724.387731  \n",
       "4990  Lower middle income     2040.552459  \n",
       "4991  Lower middle income     2156.034004  \n",
       "\n",
       "[4992 rows x 11 columns]"
      ]
     },
     "execution_count": 407,
     "metadata": {},
     "output_type": "execute_result"
    }
   ],
   "source": [
    "df_final"
   ]
  },
  {
   "cell_type": "code",
   "execution_count": 408,
   "metadata": {},
   "outputs": [],
   "source": [
    "df_final.to_csv(\"internet_usage & population.csv\")\n",
    "\n",
    "\n"
   ]
  },
  {
   "cell_type": "code",
   "execution_count": null,
   "metadata": {},
   "outputs": [],
   "source": []
  }
 ],
 "metadata": {
  "kernelspec": {
   "display_name": "base",
   "language": "python",
   "name": "python3"
  },
  "language_info": {
   "codemirror_mode": {
    "name": "ipython",
    "version": 3
   },
   "file_extension": ".py",
   "mimetype": "text/x-python",
   "name": "python",
   "nbconvert_exporter": "python",
   "pygments_lexer": "ipython3",
   "version": "3.11.5"
  }
 },
 "nbformat": 4,
 "nbformat_minor": 2
}
